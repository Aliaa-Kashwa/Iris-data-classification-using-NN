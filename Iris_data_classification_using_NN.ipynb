{
  "nbformat": 4,
  "nbformat_minor": 0,
  "metadata": {
    "colab": {
      "name": "Iris data classification using NN.ipynb",
      "provenance": []
    },
    "kernelspec": {
      "name": "python3",
      "display_name": "Python 3"
    },
    "language_info": {
      "name": "python"
    }
  },
  "cells": [
    {
      "cell_type": "markdown",
      "source": [
        "#**Import libraries**"
      ],
      "metadata": {
        "id": "b9tTIwPsYndO"
      }
    },
    {
      "cell_type": "code",
      "execution_count": null,
      "metadata": {
        "id": "N8ZOiMxBZL1L"
      },
      "outputs": [],
      "source": [
        "# import libraries\n",
        "import numpy as np\n",
        "import pandas as pd\n",
        "import matplotlib as plt\n",
        "import tensorflow as tf\n",
        "import keras as k\n",
        "\n",
        "from sklearn.model_selection import train_test_split\n",
        "\n",
        "from tensorflow.keras.models import Sequential\n",
        "from keras.layers.core import Dense\n",
        "\n",
        "from sklearn.datasets import load_iris\n",
        "\n",
        "from tensorflow.keras.optimizers import SGD\n",
        "#from tensorflow.keras.optimizers import Adam"
      ]
    },
    {
      "cell_type": "markdown",
      "source": [
        "#**Read data**"
      ],
      "metadata": {
        "id": "Zo3MDoCgYrtA"
      }
    },
    {
      "cell_type": "code",
      "source": [
        "#read the data\n",
        "iris = load_iris()\n",
        "X = iris.data[:, :]\n",
        "Y =iris.target"
      ],
      "metadata": {
        "id": "aVq0vE7TeHRH"
      },
      "execution_count": null,
      "outputs": []
    },
    {
      "cell_type": "code",
      "source": [
        "#shape of features\n",
        "X_shape= X.shape\n",
        "X_shape"
      ],
      "metadata": {
        "colab": {
          "base_uri": "https://localhost:8080/"
        },
        "id": "FkfLolAvrqmA",
        "outputId": "aeedcd11-4a05-47c4-8f76-7e071fd13928"
      },
      "execution_count": null,
      "outputs": [
        {
          "output_type": "execute_result",
          "data": {
            "text/plain": [
              "(150, 4)"
            ]
          },
          "metadata": {},
          "execution_count": 3
        }
      ]
    },
    {
      "cell_type": "code",
      "source": [
        "#number of features\n",
        "n_features= X.shape[1]\n",
        "n_features"
      ],
      "metadata": {
        "colab": {
          "base_uri": "https://localhost:8080/"
        },
        "id": "zcHDSR7eypf5",
        "outputId": "97d7ab46-d312-4740-ee2f-6fbde36beb62"
      },
      "execution_count": null,
      "outputs": [
        {
          "output_type": "execute_result",
          "data": {
            "text/plain": [
              "4"
            ]
          },
          "metadata": {},
          "execution_count": 4
        }
      ]
    },
    {
      "cell_type": "code",
      "source": [
        "#shape of label\n",
        "Y.shape"
      ],
      "metadata": {
        "colab": {
          "base_uri": "https://localhost:8080/"
        },
        "id": "S6joyQX-y1C_",
        "outputId": "91b3e013-7b2d-4e25-ac6f-bebaf2b65412"
      },
      "execution_count": null,
      "outputs": [
        {
          "output_type": "execute_result",
          "data": {
            "text/plain": [
              "(150,)"
            ]
          },
          "metadata": {},
          "execution_count": 5
        }
      ]
    },
    {
      "cell_type": "code",
      "source": [
        "#display the labels\n",
        "Y"
      ],
      "metadata": {
        "colab": {
          "base_uri": "https://localhost:8080/"
        },
        "id": "-dcRQKDrzWm_",
        "outputId": "80d72d19-e0b1-419e-a579-cbf7f85c327c"
      },
      "execution_count": null,
      "outputs": [
        {
          "output_type": "execute_result",
          "data": {
            "text/plain": [
              "array([0, 0, 0, 0, 0, 0, 0, 0, 0, 0, 0, 0, 0, 0, 0, 0, 0, 0, 0, 0, 0, 0,\n",
              "       0, 0, 0, 0, 0, 0, 0, 0, 0, 0, 0, 0, 0, 0, 0, 0, 0, 0, 0, 0, 0, 0,\n",
              "       0, 0, 0, 0, 0, 0, 1, 1, 1, 1, 1, 1, 1, 1, 1, 1, 1, 1, 1, 1, 1, 1,\n",
              "       1, 1, 1, 1, 1, 1, 1, 1, 1, 1, 1, 1, 1, 1, 1, 1, 1, 1, 1, 1, 1, 1,\n",
              "       1, 1, 1, 1, 1, 1, 1, 1, 1, 1, 1, 1, 2, 2, 2, 2, 2, 2, 2, 2, 2, 2,\n",
              "       2, 2, 2, 2, 2, 2, 2, 2, 2, 2, 2, 2, 2, 2, 2, 2, 2, 2, 2, 2, 2, 2,\n",
              "       2, 2, 2, 2, 2, 2, 2, 2, 2, 2, 2, 2, 2, 2, 2, 2, 2, 2])"
            ]
          },
          "metadata": {},
          "execution_count": 6
        }
      ]
    },
    {
      "cell_type": "code",
      "source": [
        "# display unique variables in the output column\n",
        "np.unique(Y)"
      ],
      "metadata": {
        "colab": {
          "base_uri": "https://localhost:8080/"
        },
        "id": "A3ioFWZlz_3g",
        "outputId": "aec8907d-34a5-48c6-f133-7dd173df67e7"
      },
      "execution_count": null,
      "outputs": [
        {
          "output_type": "execute_result",
          "data": {
            "text/plain": [
              "array([0, 1, 2])"
            ]
          },
          "metadata": {},
          "execution_count": 7
        }
      ]
    },
    {
      "cell_type": "markdown",
      "source": [
        "#**Split data**"
      ],
      "metadata": {
        "id": "PUgC5pWSZFeh"
      }
    },
    {
      "cell_type": "code",
      "source": [
        "#split out data\n",
        "x_train, x_test, y_train, y_test = train_test_split(X, Y, test_size=0.2, random_state=0)"
      ],
      "metadata": {
        "id": "Yeujq3c9y5He"
      },
      "execution_count": null,
      "outputs": []
    },
    {
      "cell_type": "markdown",
      "source": [
        "#**Model building**"
      ],
      "metadata": {
        "id": "hfDccGgXZI51"
      }
    },
    {
      "cell_type": "markdown",
      "source": [
        "For Iris Dataset it is evident that Neural networkis the best classification method. So we will build simple nural network model for classifying the iris data.\n"
      ],
      "metadata": {
        "id": "l-YzZa9tZP62"
      }
    },
    {
      "cell_type": "code",
      "source": [
        "# construct the model\n",
        "model = tf.keras.Sequential() \n",
        "\n",
        "model.add(Dense(100,input_shape=(n_features,),activation='relu'))\n",
        "model.add(Dense(50,activation='relu'))\n",
        "model.add(Dense(3,activation='softmax'))"
      ],
      "metadata": {
        "id": "JxFpjo06Zbz5"
      },
      "execution_count": null,
      "outputs": []
    },
    {
      "cell_type": "code",
      "source": [
        "# compile the model \n",
        "opt = SGD(learning_rate=0.01, momentum=0.9) \n",
        "model.compile(optimizer=opt, \n",
        "              loss='sparse_categorical_crossentropy',\n",
        "              metrics=['accuracy']) # for regression ---> (metrics=[mae or mse])"
      ],
      "metadata": {
        "id": "df6Tl6ynZb2v"
      },
      "execution_count": null,
      "outputs": []
    },
    {
      "cell_type": "code",
      "source": [
        "# fit the model\n",
        "model.fit(x_train, y_train, epochs=100,validation_data=(x_test, y_test) ,batch_size=32) "
      ],
      "metadata": {
        "colab": {
          "base_uri": "https://localhost:8080/"
        },
        "id": "GuXAbMxfZb5X",
        "outputId": "974390c7-de80-44f3-dd80-57d6f2ce068a"
      },
      "execution_count": null,
      "outputs": [
        {
          "output_type": "stream",
          "name": "stdout",
          "text": [
            "Epoch 1/100\n",
            "4/4 [==============================] - 1s 65ms/step - loss: 0.9841 - accuracy: 0.3333 - val_loss: 0.9669 - val_accuracy: 0.5667\n",
            "Epoch 2/100\n",
            "4/4 [==============================] - 0s 10ms/step - loss: 0.8653 - accuracy: 0.7167 - val_loss: 0.8487 - val_accuracy: 0.5667\n",
            "Epoch 3/100\n",
            "4/4 [==============================] - 0s 9ms/step - loss: 0.7545 - accuracy: 0.6917 - val_loss: 0.7964 - val_accuracy: 0.5667\n",
            "Epoch 4/100\n",
            "4/4 [==============================] - 0s 9ms/step - loss: 0.6573 - accuracy: 0.7500 - val_loss: 0.5562 - val_accuracy: 0.8333\n",
            "Epoch 5/100\n",
            "4/4 [==============================] - 0s 9ms/step - loss: 0.5232 - accuracy: 0.7750 - val_loss: 0.5777 - val_accuracy: 0.5667\n",
            "Epoch 6/100\n",
            "4/4 [==============================] - 0s 9ms/step - loss: 0.4579 - accuracy: 0.8250 - val_loss: 0.3893 - val_accuracy: 0.9667\n",
            "Epoch 7/100\n",
            "4/4 [==============================] - 0s 8ms/step - loss: 0.3898 - accuracy: 0.9583 - val_loss: 0.4651 - val_accuracy: 0.6333\n",
            "Epoch 8/100\n",
            "4/4 [==============================] - 0s 8ms/step - loss: 0.3680 - accuracy: 0.7750 - val_loss: 0.2903 - val_accuracy: 0.9667\n",
            "Epoch 9/100\n",
            "4/4 [==============================] - 0s 12ms/step - loss: 0.3654 - accuracy: 0.8583 - val_loss: 0.4128 - val_accuracy: 0.7000\n",
            "Epoch 10/100\n",
            "4/4 [==============================] - 0s 10ms/step - loss: 0.3660 - accuracy: 0.7750 - val_loss: 0.2316 - val_accuracy: 0.9667\n",
            "Epoch 11/100\n",
            "4/4 [==============================] - 0s 10ms/step - loss: 0.2907 - accuracy: 0.9417 - val_loss: 0.2868 - val_accuracy: 0.8667\n",
            "Epoch 12/100\n",
            "4/4 [==============================] - 0s 13ms/step - loss: 0.2460 - accuracy: 0.9667 - val_loss: 0.2035 - val_accuracy: 1.0000\n",
            "Epoch 13/100\n",
            "4/4 [==============================] - 0s 10ms/step - loss: 0.2276 - accuracy: 0.9500 - val_loss: 0.1904 - val_accuracy: 1.0000\n",
            "Epoch 14/100\n",
            "4/4 [==============================] - 0s 8ms/step - loss: 0.2016 - accuracy: 0.9667 - val_loss: 0.1956 - val_accuracy: 1.0000\n",
            "Epoch 15/100\n",
            "4/4 [==============================] - 0s 10ms/step - loss: 0.1972 - accuracy: 0.9583 - val_loss: 0.1377 - val_accuracy: 1.0000\n",
            "Epoch 16/100\n",
            "4/4 [==============================] - 0s 8ms/step - loss: 0.1742 - accuracy: 0.9667 - val_loss: 0.1654 - val_accuracy: 1.0000\n",
            "Epoch 17/100\n",
            "4/4 [==============================] - 0s 9ms/step - loss: 0.1675 - accuracy: 0.9750 - val_loss: 0.1574 - val_accuracy: 1.0000\n",
            "Epoch 18/100\n",
            "4/4 [==============================] - 0s 9ms/step - loss: 0.1583 - accuracy: 0.9500 - val_loss: 0.1006 - val_accuracy: 0.9667\n",
            "Epoch 19/100\n",
            "4/4 [==============================] - 0s 8ms/step - loss: 0.1828 - accuracy: 0.9417 - val_loss: 0.2699 - val_accuracy: 0.8333\n",
            "Epoch 20/100\n",
            "4/4 [==============================] - 0s 8ms/step - loss: 0.2021 - accuracy: 0.9083 - val_loss: 0.1135 - val_accuracy: 0.9667\n",
            "Epoch 21/100\n",
            "4/4 [==============================] - 0s 8ms/step - loss: 0.1992 - accuracy: 0.9167 - val_loss: 0.1700 - val_accuracy: 0.9333\n",
            "Epoch 22/100\n",
            "4/4 [==============================] - 0s 8ms/step - loss: 0.2062 - accuracy: 0.9000 - val_loss: 0.2007 - val_accuracy: 0.9000\n",
            "Epoch 23/100\n",
            "4/4 [==============================] - 0s 8ms/step - loss: 0.1633 - accuracy: 0.9333 - val_loss: 0.0812 - val_accuracy: 0.9667\n",
            "Epoch 24/100\n",
            "4/4 [==============================] - 0s 10ms/step - loss: 0.1708 - accuracy: 0.9167 - val_loss: 0.1594 - val_accuracy: 0.9333\n",
            "Epoch 25/100\n",
            "4/4 [==============================] - 0s 9ms/step - loss: 0.1489 - accuracy: 0.9583 - val_loss: 0.0775 - val_accuracy: 1.0000\n",
            "Epoch 26/100\n",
            "4/4 [==============================] - 0s 9ms/step - loss: 0.1173 - accuracy: 0.9583 - val_loss: 0.0790 - val_accuracy: 1.0000\n",
            "Epoch 27/100\n",
            "4/4 [==============================] - 0s 9ms/step - loss: 0.1135 - accuracy: 0.9750 - val_loss: 0.0914 - val_accuracy: 1.0000\n",
            "Epoch 28/100\n",
            "4/4 [==============================] - 0s 9ms/step - loss: 0.1240 - accuracy: 0.9500 - val_loss: 0.0614 - val_accuracy: 0.9667\n",
            "Epoch 29/100\n",
            "4/4 [==============================] - 0s 9ms/step - loss: 0.1255 - accuracy: 0.9500 - val_loss: 0.1342 - val_accuracy: 0.9333\n",
            "Epoch 30/100\n",
            "4/4 [==============================] - 0s 9ms/step - loss: 0.1722 - accuracy: 0.9500 - val_loss: 0.0640 - val_accuracy: 0.9667\n",
            "Epoch 31/100\n",
            "4/4 [==============================] - 0s 10ms/step - loss: 0.1769 - accuracy: 0.9167 - val_loss: 0.1991 - val_accuracy: 0.8667\n",
            "Epoch 32/100\n",
            "4/4 [==============================] - 0s 10ms/step - loss: 0.2059 - accuracy: 0.9167 - val_loss: 0.0641 - val_accuracy: 1.0000\n",
            "Epoch 33/100\n",
            "4/4 [==============================] - 0s 9ms/step - loss: 0.2350 - accuracy: 0.9167 - val_loss: 0.0614 - val_accuracy: 0.9667\n",
            "Epoch 34/100\n",
            "4/4 [==============================] - 0s 14ms/step - loss: 0.1749 - accuracy: 0.9250 - val_loss: 0.3418 - val_accuracy: 0.8000\n",
            "Epoch 35/100\n",
            "4/4 [==============================] - 0s 10ms/step - loss: 0.2547 - accuracy: 0.9083 - val_loss: 0.0993 - val_accuracy: 0.9667\n",
            "Epoch 36/100\n",
            "4/4 [==============================] - 0s 8ms/step - loss: 0.2285 - accuracy: 0.9000 - val_loss: 0.4065 - val_accuracy: 0.7667\n",
            "Epoch 37/100\n",
            "4/4 [==============================] - 0s 9ms/step - loss: 0.2115 - accuracy: 0.9333 - val_loss: 0.0797 - val_accuracy: 0.9667\n",
            "Epoch 38/100\n",
            "4/4 [==============================] - 0s 10ms/step - loss: 0.1058 - accuracy: 0.9750 - val_loss: 0.1973 - val_accuracy: 0.8667\n",
            "Epoch 39/100\n",
            "4/4 [==============================] - 0s 9ms/step - loss: 0.1740 - accuracy: 0.9417 - val_loss: 0.0562 - val_accuracy: 0.9667\n",
            "Epoch 40/100\n",
            "4/4 [==============================] - 0s 8ms/step - loss: 0.1117 - accuracy: 0.9500 - val_loss: 0.0752 - val_accuracy: 1.0000\n",
            "Epoch 41/100\n",
            "4/4 [==============================] - 0s 8ms/step - loss: 0.0979 - accuracy: 0.9583 - val_loss: 0.0512 - val_accuracy: 0.9667\n",
            "Epoch 42/100\n",
            "4/4 [==============================] - 0s 9ms/step - loss: 0.1365 - accuracy: 0.9333 - val_loss: 0.0591 - val_accuracy: 1.0000\n",
            "Epoch 43/100\n",
            "4/4 [==============================] - 0s 10ms/step - loss: 0.1412 - accuracy: 0.9250 - val_loss: 0.0652 - val_accuracy: 1.0000\n",
            "Epoch 44/100\n",
            "4/4 [==============================] - 0s 9ms/step - loss: 0.1644 - accuracy: 0.9333 - val_loss: 0.0475 - val_accuracy: 1.0000\n",
            "Epoch 45/100\n",
            "4/4 [==============================] - 0s 12ms/step - loss: 0.2488 - accuracy: 0.9167 - val_loss: 0.3293 - val_accuracy: 0.8000\n",
            "Epoch 46/100\n",
            "4/4 [==============================] - 0s 9ms/step - loss: 0.3924 - accuracy: 0.8667 - val_loss: 0.0846 - val_accuracy: 0.9667\n",
            "Epoch 47/100\n",
            "4/4 [==============================] - 0s 9ms/step - loss: 0.4551 - accuracy: 0.8500 - val_loss: 0.2923 - val_accuracy: 0.8333\n",
            "Epoch 48/100\n",
            "4/4 [==============================] - 0s 9ms/step - loss: 0.2705 - accuracy: 0.8917 - val_loss: 0.0599 - val_accuracy: 1.0000\n",
            "Epoch 49/100\n",
            "4/4 [==============================] - 0s 9ms/step - loss: 0.1430 - accuracy: 0.9333 - val_loss: 0.0612 - val_accuracy: 1.0000\n",
            "Epoch 50/100\n",
            "4/4 [==============================] - 0s 10ms/step - loss: 0.1456 - accuracy: 0.9500 - val_loss: 0.1646 - val_accuracy: 0.9000\n",
            "Epoch 51/100\n",
            "4/4 [==============================] - 0s 9ms/step - loss: 0.1167 - accuracy: 0.9500 - val_loss: 0.0673 - val_accuracy: 0.9667\n",
            "Epoch 52/100\n",
            "4/4 [==============================] - 0s 9ms/step - loss: 0.1304 - accuracy: 0.9583 - val_loss: 0.0834 - val_accuracy: 1.0000\n",
            "Epoch 53/100\n",
            "4/4 [==============================] - 0s 8ms/step - loss: 0.1063 - accuracy: 0.9583 - val_loss: 0.0551 - val_accuracy: 1.0000\n",
            "Epoch 54/100\n",
            "4/4 [==============================] - 0s 9ms/step - loss: 0.1052 - accuracy: 0.9750 - val_loss: 0.0506 - val_accuracy: 1.0000\n",
            "Epoch 55/100\n",
            "4/4 [==============================] - 0s 9ms/step - loss: 0.1187 - accuracy: 0.9500 - val_loss: 0.0675 - val_accuracy: 1.0000\n",
            "Epoch 56/100\n",
            "4/4 [==============================] - 0s 9ms/step - loss: 0.1084 - accuracy: 0.9500 - val_loss: 0.0474 - val_accuracy: 0.9667\n",
            "Epoch 57/100\n",
            "4/4 [==============================] - 0s 10ms/step - loss: 0.1037 - accuracy: 0.9583 - val_loss: 0.0732 - val_accuracy: 1.0000\n",
            "Epoch 58/100\n",
            "4/4 [==============================] - 0s 9ms/step - loss: 0.0940 - accuracy: 0.9750 - val_loss: 0.0445 - val_accuracy: 1.0000\n",
            "Epoch 59/100\n",
            "4/4 [==============================] - 0s 24ms/step - loss: 0.0949 - accuracy: 0.9750 - val_loss: 0.0532 - val_accuracy: 1.0000\n",
            "Epoch 60/100\n",
            "4/4 [==============================] - 0s 20ms/step - loss: 0.0969 - accuracy: 0.9833 - val_loss: 0.0449 - val_accuracy: 1.0000\n",
            "Epoch 61/100\n",
            "4/4 [==============================] - 0s 21ms/step - loss: 0.1167 - accuracy: 0.9583 - val_loss: 0.0412 - val_accuracy: 1.0000\n",
            "Epoch 62/100\n",
            "4/4 [==============================] - 0s 17ms/step - loss: 0.0958 - accuracy: 0.9583 - val_loss: 0.0405 - val_accuracy: 1.0000\n",
            "Epoch 63/100\n",
            "4/4 [==============================] - 0s 13ms/step - loss: 0.0776 - accuracy: 0.9750 - val_loss: 0.0640 - val_accuracy: 1.0000\n",
            "Epoch 64/100\n",
            "4/4 [==============================] - 0s 11ms/step - loss: 0.1001 - accuracy: 0.9583 - val_loss: 0.0436 - val_accuracy: 0.9667\n",
            "Epoch 65/100\n",
            "4/4 [==============================] - 0s 12ms/step - loss: 0.1141 - accuracy: 0.9417 - val_loss: 0.0847 - val_accuracy: 0.9667\n",
            "Epoch 66/100\n",
            "4/4 [==============================] - 0s 13ms/step - loss: 0.1017 - accuracy: 0.9667 - val_loss: 0.0382 - val_accuracy: 1.0000\n",
            "Epoch 67/100\n",
            "4/4 [==============================] - 0s 22ms/step - loss: 0.0854 - accuracy: 0.9833 - val_loss: 0.0382 - val_accuracy: 1.0000\n",
            "Epoch 68/100\n",
            "4/4 [==============================] - 0s 12ms/step - loss: 0.0865 - accuracy: 0.9750 - val_loss: 0.0370 - val_accuracy: 1.0000\n",
            "Epoch 69/100\n",
            "4/4 [==============================] - 0s 13ms/step - loss: 0.0850 - accuracy: 0.9750 - val_loss: 0.0380 - val_accuracy: 1.0000\n",
            "Epoch 70/100\n",
            "4/4 [==============================] - 0s 16ms/step - loss: 0.0781 - accuracy: 0.9750 - val_loss: 0.0373 - val_accuracy: 1.0000\n",
            "Epoch 71/100\n",
            "4/4 [==============================] - 0s 14ms/step - loss: 0.0940 - accuracy: 0.9583 - val_loss: 0.0425 - val_accuracy: 1.0000\n",
            "Epoch 72/100\n",
            "4/4 [==============================] - 0s 14ms/step - loss: 0.0850 - accuracy: 0.9750 - val_loss: 0.0348 - val_accuracy: 1.0000\n",
            "Epoch 73/100\n",
            "4/4 [==============================] - 0s 16ms/step - loss: 0.0801 - accuracy: 0.9833 - val_loss: 0.0389 - val_accuracy: 1.0000\n",
            "Epoch 74/100\n",
            "4/4 [==============================] - 0s 16ms/step - loss: 0.0847 - accuracy: 0.9667 - val_loss: 0.0338 - val_accuracy: 1.0000\n",
            "Epoch 75/100\n",
            "4/4 [==============================] - 0s 13ms/step - loss: 0.0802 - accuracy: 0.9833 - val_loss: 0.0382 - val_accuracy: 1.0000\n",
            "Epoch 76/100\n",
            "4/4 [==============================] - 0s 11ms/step - loss: 0.0829 - accuracy: 0.9667 - val_loss: 0.0334 - val_accuracy: 1.0000\n",
            "Epoch 77/100\n",
            "4/4 [==============================] - 0s 19ms/step - loss: 0.0894 - accuracy: 0.9750 - val_loss: 0.0365 - val_accuracy: 1.0000\n",
            "Epoch 78/100\n",
            "4/4 [==============================] - 0s 12ms/step - loss: 0.0887 - accuracy: 0.9583 - val_loss: 0.0354 - val_accuracy: 0.9667\n",
            "Epoch 79/100\n",
            "4/4 [==============================] - 0s 16ms/step - loss: 0.0873 - accuracy: 0.9667 - val_loss: 0.0374 - val_accuracy: 1.0000\n",
            "Epoch 80/100\n",
            "4/4 [==============================] - 0s 20ms/step - loss: 0.0823 - accuracy: 0.9750 - val_loss: 0.0314 - val_accuracy: 1.0000\n",
            "Epoch 81/100\n",
            "4/4 [==============================] - 0s 14ms/step - loss: 0.0739 - accuracy: 0.9750 - val_loss: 0.0369 - val_accuracy: 1.0000\n",
            "Epoch 82/100\n",
            "4/4 [==============================] - 0s 23ms/step - loss: 0.0993 - accuracy: 0.9417 - val_loss: 0.0344 - val_accuracy: 0.9667\n",
            "Epoch 83/100\n",
            "4/4 [==============================] - 0s 15ms/step - loss: 0.0847 - accuracy: 0.9667 - val_loss: 0.0507 - val_accuracy: 1.0000\n",
            "Epoch 84/100\n",
            "4/4 [==============================] - 0s 12ms/step - loss: 0.0854 - accuracy: 0.9583 - val_loss: 0.0337 - val_accuracy: 1.0000\n",
            "Epoch 85/100\n",
            "4/4 [==============================] - 0s 15ms/step - loss: 0.0841 - accuracy: 0.9583 - val_loss: 0.0334 - val_accuracy: 1.0000\n",
            "Epoch 86/100\n",
            "4/4 [==============================] - 0s 16ms/step - loss: 0.1016 - accuracy: 0.9667 - val_loss: 0.0305 - val_accuracy: 1.0000\n",
            "Epoch 87/100\n",
            "4/4 [==============================] - 0s 15ms/step - loss: 0.0980 - accuracy: 0.9667 - val_loss: 0.0300 - val_accuracy: 1.0000\n",
            "Epoch 88/100\n",
            "4/4 [==============================] - 0s 30ms/step - loss: 0.0879 - accuracy: 0.9667 - val_loss: 0.0396 - val_accuracy: 1.0000\n",
            "Epoch 89/100\n",
            "4/4 [==============================] - 0s 13ms/step - loss: 0.0750 - accuracy: 0.9750 - val_loss: 0.0344 - val_accuracy: 0.9667\n",
            "Epoch 90/100\n",
            "4/4 [==============================] - 0s 12ms/step - loss: 0.0851 - accuracy: 0.9750 - val_loss: 0.0303 - val_accuracy: 1.0000\n",
            "Epoch 91/100\n",
            "4/4 [==============================] - 0s 13ms/step - loss: 0.1020 - accuracy: 0.9667 - val_loss: 0.0315 - val_accuracy: 1.0000\n",
            "Epoch 92/100\n",
            "4/4 [==============================] - 0s 37ms/step - loss: 0.0868 - accuracy: 0.9750 - val_loss: 0.0307 - val_accuracy: 1.0000\n",
            "Epoch 93/100\n",
            "4/4 [==============================] - 0s 14ms/step - loss: 0.1014 - accuracy: 0.9750 - val_loss: 0.0602 - val_accuracy: 1.0000\n",
            "Epoch 94/100\n",
            "4/4 [==============================] - 0s 12ms/step - loss: 0.0896 - accuracy: 0.9667 - val_loss: 0.0556 - val_accuracy: 0.9667\n",
            "Epoch 95/100\n",
            "4/4 [==============================] - 0s 26ms/step - loss: 0.0943 - accuracy: 0.9583 - val_loss: 0.1127 - val_accuracy: 0.9333\n",
            "Epoch 96/100\n",
            "4/4 [==============================] - 0s 17ms/step - loss: 0.1982 - accuracy: 0.9333 - val_loss: 0.0579 - val_accuracy: 0.9667\n",
            "Epoch 97/100\n",
            "4/4 [==============================] - 0s 22ms/step - loss: 0.1201 - accuracy: 0.9500 - val_loss: 0.0966 - val_accuracy: 0.9667\n",
            "Epoch 98/100\n",
            "4/4 [==============================] - 0s 18ms/step - loss: 0.1357 - accuracy: 0.9500 - val_loss: 0.0303 - val_accuracy: 1.0000\n",
            "Epoch 99/100\n",
            "4/4 [==============================] - 0s 24ms/step - loss: 0.0776 - accuracy: 0.9833 - val_loss: 0.0301 - val_accuracy: 1.0000\n",
            "Epoch 100/100\n",
            "4/4 [==============================] - 0s 12ms/step - loss: 0.0758 - accuracy: 0.9750 - val_loss: 0.0304 - val_accuracy: 1.0000\n"
          ]
        },
        {
          "output_type": "execute_result",
          "data": {
            "text/plain": [
              "<keras.callbacks.History at 0x7f3335bd3c50>"
            ]
          },
          "metadata": {},
          "execution_count": 11
        }
      ]
    },
    {
      "cell_type": "code",
      "source": [
        "# evaluate the model\n",
        "loss, acc = model.evaluate(x_test, y_test, verbose=0) # return what i gave it in (compile step)"
      ],
      "metadata": {
        "id": "Th_Gb2XgZb8n"
      },
      "execution_count": null,
      "outputs": []
    },
    {
      "cell_type": "code",
      "source": [
        "print('loss ',loss)\n",
        "print('accuracy',acc)"
      ],
      "metadata": {
        "colab": {
          "base_uri": "https://localhost:8080/"
        },
        "id": "E2yWTuVm4oNH",
        "outputId": "dae33061-1e74-47d4-dafe-7e72dbe140a6"
      },
      "execution_count": null,
      "outputs": [
        {
          "output_type": "stream",
          "name": "stdout",
          "text": [
            "loss  0.03040391579270363\n",
            "accuracy 1.0\n"
          ]
        }
      ]
    },
    {
      "cell_type": "code",
      "source": [
        "# prediction\n",
        "y_pred= model.predict(x_test)"
      ],
      "metadata": {
        "id": "y-YqvEbEZcgR"
      },
      "execution_count": null,
      "outputs": []
    },
    {
      "cell_type": "code",
      "source": [
        "y_pred"
      ],
      "metadata": {
        "colab": {
          "base_uri": "https://localhost:8080/"
        },
        "id": "579uxkkxZcjY",
        "outputId": "b40b7820-8df4-4fb1-acf0-89e48dd09235"
      },
      "execution_count": null,
      "outputs": [
        {
          "output_type": "execute_result",
          "data": {
            "text/plain": [
              "array([[2.4530724e-09, 7.5949437e-04, 9.9924052e-01],\n",
              "       [9.3814480e-04, 9.9762625e-01, 1.4356455e-03],\n",
              "       [9.9980646e-01, 1.9355891e-04, 1.8862932e-12],\n",
              "       [2.1367832e-09, 4.9847364e-03, 9.9501532e-01],\n",
              "       [9.9893647e-01, 1.0635094e-03, 1.2498712e-10],\n",
              "       [9.5968726e-11, 1.5761757e-04, 9.9984241e-01],\n",
              "       [9.9928433e-01, 7.1570155e-04, 6.5179057e-11],\n",
              "       [1.4941329e-04, 9.9665976e-01, 3.1907407e-03],\n",
              "       [8.2216146e-05, 9.9273807e-01, 7.1797068e-03],\n",
              "       [1.4026735e-03, 9.9776888e-01, 8.2848244e-04],\n",
              "       [3.8034088e-08, 1.1508464e-02, 9.8849154e-01],\n",
              "       [2.9820699e-04, 9.9737775e-01, 2.3240226e-03],\n",
              "       [1.1041151e-04, 9.7578055e-01, 2.4109038e-02],\n",
              "       [9.5142816e-05, 9.8488647e-01, 1.5018441e-02],\n",
              "       [6.7749563e-05, 9.3395936e-01, 6.5972798e-02],\n",
              "       [9.9930286e-01, 6.9710071e-04, 5.3055099e-11],\n",
              "       [9.7816090e-05, 9.4690591e-01, 5.2996259e-02],\n",
              "       [1.1576213e-04, 8.8724232e-01, 1.1264197e-01],\n",
              "       [9.9799037e-01, 2.0096304e-03, 7.0483558e-10],\n",
              "       [9.9968636e-01, 3.1369631e-04, 7.8224953e-12],\n",
              "       [4.5803553e-08, 5.8397031e-03, 9.9416029e-01],\n",
              "       [6.7090485e-05, 7.9592717e-01, 2.0400579e-01],\n",
              "       [9.9685425e-01, 3.1457732e-03, 1.2107290e-09],\n",
              "       [9.9690658e-01, 3.0934382e-03, 2.6120790e-09],\n",
              "       [4.2075808e-06, 2.8470674e-01, 7.1528912e-01],\n",
              "       [9.9949408e-01, 5.0589908e-04, 5.0609340e-11],\n",
              "       [9.9839932e-01, 1.6006824e-03, 2.6976912e-10],\n",
              "       [5.6430028e-04, 9.9779820e-01, 1.6375643e-03],\n",
              "       [6.7825299e-03, 9.9184638e-01, 1.3711015e-03],\n",
              "       [9.9842286e-01, 1.5771331e-03, 3.4488754e-10]], dtype=float32)"
            ]
          },
          "metadata": {},
          "execution_count": 15
        }
      ]
    },
    {
      "cell_type": "code",
      "source": [
        ""
      ],
      "metadata": {
        "id": "2OlJOTy8Zcma"
      },
      "execution_count": null,
      "outputs": []
    }
  ]
}